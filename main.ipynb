{
 "cells": [
  {
   "cell_type": "code",
   "execution_count": null,
   "metadata": {},
   "outputs": [],
   "source": [
    "#!/usr/bin/env python                                                                                            \n",
    "# coding: utf-8                                                                                                  \n",
    "                                                                                                                 \n",
    "from networkx import networkx as nx                                                                              \n",
    "from itertools import combinations                                                                               \n",
    "from collections import defaultdict                                                                              \n",
    "import matplotlib.pyplot as plt                                                                                  \n",
    "import scipy                                                                                                     \n",
    "import os                                                                                                        \n",
    "import json                                                                                                      \n",
    "import database_handler                                                                                          \n",
    "#from data_reader import get_stackoverflow_data                                                                  \n",
    "                                                                                                                 \n",
    "BASE_PATH = 'data'                                                                                               \n",
    "                                                                                                                 \n",
    "G=nx.Graph()                                                                                                     \n",
    "                                                                                                                 \n",
    "#xml_dict = get_stackoverflow_data(f\"{BASE_PATH}/bitcoin\")                                                       \n",
    "                                                                                                                 \n",
    "# example on how to use the xml                                                                                  \n",
    "#for row in xml_dict['Users'][:2]:                                                                               \n",
    "#    # row objects have tag & attrib                                                                             \n",
    "#    print(row.tag, row.attrib)                                                                                  \n",
    "                                                                                                                 \n",
    "# Extraction of features into individual json files for each directory                                           \n",
    "database_handler.prepare_json_databases(BASE_PATH)                                                               \n",
    "                                                                                                                 \n",
    "G.add_nodes_from(os.listdir(BASE_PATH))                                                                          \n",
    "                                                                                                                 \n",
    "edges = defaultdict(lambda:defaultdict(int))                                                                     \n",
    "# Each directory represents a site                                                                               \n",
    "for dir1, dir2 in combinations(os.listdir(BASE_PATH), 2):                                                        \n",
    "    users1 = database_handler.load_json_database(BASE_PATH, dir1)                                                \n",
    "    users2 = database_handler.load_json_database(BASE_PATH, dir2)                                                \n",
    "    # The weight of the edge is the number of users that have posted in both sites                               \n",
    "    for user in set(users1).intersection(set(users2)):                                                           \n",
    "        edges[(dir1, dir2)]['weight'] += 1                                                                       \n",
    "# Networkx doesn't seem to handle defaultdicts, hence the following generator                                    \n",
    "G.add_weighted_edges_from((k[0], k[1], v['weight']) for k, v in edges.items())                                   \n",
    "                                                                                                                 \n",
    "# Drawing edge thickness according to width                                                                      \n",
    "plt.figure(1, figsize=(12,12))                                                                                   \n",
    "weights = [G[i][j]['weight']/500 for i, j in edges]                                                              \n",
    "nx.draw(G, with_labels=True, node_color='skyblue', width=weights)                                                \n",
    "plt.show() "
   ]
  },
  {
   "cell_type": "code",
   "execution_count": 7,
   "metadata": {},
   "outputs": [
    {
     "name": "stdout",
     "output_type": "stream",
     "text": [
      "Searching bitcoin\n"
     ]
    }
   ],
   "source": [
    "#!/usr/bin/env python\n",
    "# coding: utf-8\n",
    "\n",
    "from networkx import networkx as nx\n",
    "from collections import defaultdict\n",
    "import matplotlib.pyplot as plt\n",
    "import scipy\n",
    "import os\n",
    "from data_reader import get_stackoverflow_data\n",
    "\n",
    "BASE_PATH = 'data'\n",
    "\n",
    "G = nx.DiGraph()\n",
    "\n",
    "edges = dict()\n",
    "missing_users = set()\n",
    "nodes = defaultdict(dict)\n",
    "for directory in os.listdir(BASE_PATH):\n",
    "    print('Searching', directory)\n",
    "    posts_dict = dict()\n",
    "    users = defaultdict(dict)\n",
    "    xml_data = get_stackoverflow_data(os.path.join(BASE_PATH, directory), ['Posts', 'Users'])\n",
    "    for user in xml_data['Users']:\n",
    "        account_id = user.attrib.get('AccountId', user.attrib.get('DisplayName'))\n",
    "        # Wanted features\n",
    "        reputation = user.attrib.get('Reputation')\n",
    "        users[account_id]['Reputation'] = reputation\n",
    "    for found_user in missing_users & set(users):\n",
    "        nodes[found_user] = users[found_user]\n",
    "        missing_users.remove(found_user)\n",
    "    for row in xml_data['Posts']:\n",
    "        user_id = row.attrib.get('OwnerUserId', row.attrib.get('OwnerDisplayName'))\n",
    "        # PostTypeId == 1 indicates that it's a question\n",
    "        if row.attrib['PostTypeId'] == '1':\n",
    "            posts_dict[row.attrib['Id']] = user_id\n",
    "        # otherwise it's an answer to an existing question\n",
    "        elif row.attrib['PostTypeId'] == '2':\n",
    "            # fetches the id of the OP and links them\n",
    "            parent_user_id = posts_dict.get(row.attrib['ParentId'])\n",
    "            creation_date = row.attrib.get('CreationDate')\n",
    "            for user in user_id, parent_user_id:\n",
    "                if not user:\n",
    "                    break\n",
    "                try:\n",
    "                    # Checking the specific value in order not to trigger defaultdict\n",
    "                    nodes[user]['Reputation'] = users[user]['Reputation']\n",
    "                except KeyError:\n",
    "                    if user not in nodes:\n",
    "                        missing_users.add(user)\n",
    "            # in case both user ids are known, add an edge\n",
    "            else:\n",
    "                # setdefault seems to be faster than defaultdict in this case\n",
    "                edges.setdefault((user_id, parent_user_id), dict())[directory] = []\n",
    "                edges[(user_id, parent_user_id)][directory].append(creation_date)\n",
    "\n",
    "\n",
    "nodes.update({user: None for user in missing_users})\n",
    "G.add_edges_from([(k[0], k[1], {k2:','.join(v2)}) for k, v in edges.items() for k2, v2 in v.items()])\n",
    "#G.add_edges_from(edges)\n",
    "G.add_nodes_from(nodes)"
   ]
  },
  {
   "cell_type": "code",
   "execution_count": 10,
   "metadata": {},
   "outputs": [
    {
     "data": {
      "image/png": "[encoded data removed]",
      "text/plain": [
       "<Figure size 432x288 with 1 Axes>"
      ]
     },
     "metadata": {},
     "output_type": "display_data"
    }
   ],
   "source": [
    "plt.figure(1, figsize=(16,16))\n",
    "#nx.draw(G, with_labels=True, node_color='skyblue', width=weights)\n",
    "#plt.show()\n",
    "#nx.write_graphml(G, \"stack.graphml\")\n",
    "\n",
    "nx.draw_circular(G)"
   ]
  },
  {
   "cell_type": "code",
   "execution_count": 12,
   "metadata": {},
   "outputs": [],
   "source": [
    "closeness = nx.algorithms.closeness_centrality(G)"
   ]
  },
  {
   "cell_type": "code",
   "execution_count": 40,
   "metadata": {
    "scrolled": true
   },
   "outputs": [],
   "source": [
    "nodes_with_reputation = { k:int(v['Reputation']) for k, v in nodes.items() if v }\n",
    "node_closeness = { k: closeness[k] for k in nodes_with_reputation }"
   ]
  },
  {
   "cell_type": "code",
   "execution_count": 41,
   "metadata": {},
   "outputs": [
    {
     "data": {
      "image/png": "[encoded data removed]",
      "text/plain": [
       "<Figure size 432x288 with 1 Axes>"
      ]
     },
     "metadata": {
      "needs_background": "light"
     },
     "output_type": "display_data"
    }
   ],
   "source": [
    "ks = sorted(nodes_with_reputation, key=nodes_with_reputation.get)\n",
    "f = plt.figure()\n",
    "plt.plot([nodes_with_reputation[k] for k in ks], [node_closeness[k] for k in ks], 'ro')\n",
    "plt.show()\n",
    "f.savefig(\"plot.pdf\", bbox_inches='tight')"
   ]
  },
  {
   "cell_type": "code",
   "execution_count": 47,
   "metadata": {},
   "outputs": [
    {
     "data": {
      "text/plain": [
       "0.7121848739495799"
      ]
     },
     "execution_count": 47,
     "metadata": {},
     "output_type": "execute_result"
    }
   ],
   "source": [
    "ks\n",
    "sum(1 for k in nodes_with_reputation.values() if k == 101) / len(nodes_with_reputation)"
   ]
  }
 ],
 "metadata": {
  "kernelspec": {
   "display_name": "Python 3",
   "language": "python",
   "name": "python3"
  },
  "language_info": {
   "codemirror_mode": {
    "name": "ipython",
    "version": 3
   },
   "file_extension": ".py",
   "mimetype": "text/x-python",
   "name": "python",
   "nbconvert_exporter": "python",
   "pygments_lexer": "ipython3",
   "version": "3.6.7"
  }
 },
 "nbformat": 4,
 "nbformat_minor": 2
}
