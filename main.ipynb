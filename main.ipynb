{
 "cells": [
  {
   "cell_type": "code",
   "execution_count": null,
   "metadata": {},
   "outputs": [],
   "source": [
    "#!/usr/bin/env python                                                                                            \n",
    "# coding: utf-8                                                                                                  \n",
    "                                                                                                                 \n",
    "from networkx import networkx as nx                                                                              \n",
    "from itertools import combinations                                                                               \n",
    "from collections import defaultdict                                                                              \n",
    "import matplotlib.pyplot as plt                                                                                  \n",
    "import scipy                                                                                                     \n",
    "import os                                                                                                        \n",
    "import json                                                                                                      \n",
    "import database_handler                                                                                          \n",
    "#from data_reader import get_stackoverflow_data                                                                  \n",
    "                                                                                                                 \n",
    "BASE_PATH = 'data'                                                                                               \n",
    "                                                                                                                 \n",
    "G=nx.Graph()                                                                                                     \n",
    "                                                                                                                 \n",
    "#xml_dict = get_stackoverflow_data(f\"{BASE_PATH}/bitcoin\")                                                       \n",
    "                                                                                                                 \n",
    "# example on how to use the xml                                                                                  \n",
    "#for row in xml_dict['Users'][:2]:                                                                               \n",
    "#    # row objects have tag & attrib                                                                             \n",
    "#    print(row.tag, row.attrib)                                                                                  \n",
    "                                                                                                                 \n",
    "# Extraction of features into individual json files for each directory                                           \n",
    "database_handler.prepare_json_databases(BASE_PATH)                                                               \n",
    "                                                                                                                 \n",
    "G.add_nodes_from(os.listdir(BASE_PATH))                                                                          \n",
    "                                                                                                                 \n",
    "edges = defaultdict(lambda:defaultdict(int))                                                                     \n",
    "# Each directory represents a site                                                                               \n",
    "for dir1, dir2 in combinations(os.listdir(BASE_PATH), 2):                                                        \n",
    "    users1 = database_handler.load_json_database(BASE_PATH, dir1)                                                \n",
    "    users2 = database_handler.load_json_database(BASE_PATH, dir2)                                                \n",
    "    # The weight of the edge is the number of users that have posted in both sites                               \n",
    "    for user in set(users1).intersection(set(users2)):                                                           \n",
    "        edges[(dir1, dir2)]['weight'] += 1                                                                       \n",
    "# Networkx doesn't seem to handle defaultdicts, hence the following generator                                    \n",
    "G.add_weighted_edges_from((k[0], k[1], v['weight']) for k, v in edges.items())                                   \n",
    "                                                                                                                 \n",
    "# Drawing edge thickness according to width                                                                      \n",
    "plt.figure(1, figsize=(12,12))                                                                                   \n",
    "weights = [G[i][j]['weight']/500 for i, j in edges]                                                              \n",
    "nx.draw(G, with_labels=True, node_color='skyblue', width=weights)                                                \n",
    "plt.show() "
   ]
  }
 ],
 "metadata": {
  "kernelspec": {
   "display_name": "Python 3",
   "language": "python",
   "name": "python3"
  },
  "language_info": {
   "codemirror_mode": {
    "name": "ipython",
    "version": 3
   },
   "file_extension": ".py",
   "mimetype": "text/x-python",
   "name": "python",
   "nbconvert_exporter": "python",
   "pygments_lexer": "ipython3",
   "version": "3.6.7"
  }
 },
 "nbformat": 4,
 "nbformat_minor": 2
}
