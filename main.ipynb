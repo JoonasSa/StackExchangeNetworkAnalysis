{
 "cells": [
  {
   "cell_type": "code",
   "execution_count": 2,
   "metadata": {},
   "outputs": [
    {
     "name": "stdout",
     "output_type": "stream",
     "text": [
      "row {'Id': '-1', 'Reputation': '1', 'CreationDate': '2011-08-30T14:52:14.437', 'DisplayName': 'Community', 'LastAccessDate': '2011-08-30T14:52:14.437', 'WebsiteUrl': 'http://meta.stackexchange.com/', 'Location': 'on the server farm', 'AboutMe': '<p>Hi, I\\'m not really a person.</p>\\n\\n<p>I\\'m a background process that helps keep this site clean!</p>\\n\\n<p>I do things like</p>\\n\\n<ul>\\n<li>Randomly poke old unanswered questions every hour so they get some attention</li>\\n<li>Own community questions and answers so nobody gets unnecessary reputation from them</li>\\n<li>Own downvotes on spam/evil posts that get permanently deleted</li>\\n<li>Own suggested edits from anonymous users</li>\\n<li><a href=\"http://meta.stackexchange.com/a/92006\">Remove abandoned questions</a></li>\\n</ul>\\n', 'Views': '0', 'UpVotes': '976', 'DownVotes': '11458', 'AccountId': '-1'}\n",
      "row {'Id': '2', 'Reputation': '101', 'CreationDate': '2011-08-30T20:53:10.447', 'DisplayName': 'Nick Craver', 'LastAccessDate': '2018-10-31T20:08:30.577', 'WebsiteUrl': 'https://nickcraver.com/blog/', 'Location': 'Winston-Salem, NC', 'AboutMe': '<p>I am the Architecture Lead for Stack Overflow. My day job consists of being a Developer, Site Reliability Engineer, and DBA. I design and build very fast things in hopes of making life easier for millions of developers.</p>\\n\\n<p>Blog: <a href=\"https://nickcraver.com/blog/\" rel=\"nofollow noreferrer\">nickcraver.com/blog</a><br>\\nTwitter: <a href=\"https://twitter.com/Nick_Craver\" rel=\"nofollow noreferrer\">@Nick_Craver</a><br>\\nMy Developer Story: <a href=\"https://stackoverflow.com/story/ncraver\">stackoverflow.com/story/ncraver</a></p>\\n\\n<p><sub>Disclaimer: I have <em>no idea</em> what I\\'m talking about, all my answers are guesses!</sub></p>\\n', 'Views': '18', 'UpVotes': '0', 'DownVotes': '0', 'ProfileImageUrl': 'https://i.stack.imgur.com/nGCYr.jpg?s=128&g=1', 'AccountId': '7598'}\n",
      "row {'Id': '-1', 'Reputation': '1', 'CreationDate': '2011-08-30T14:52:14.437', 'DisplayName': 'Community', 'LastAccessDate': '2011-08-30T14:52:14.437', 'WebsiteUrl': 'http://meta.stackexchange.com/', 'Location': 'on the server farm', 'AboutMe': '<p>Hi, I\\'m not really a person.</p>\\n\\n<p>I\\'m a background process that helps keep this site clean!</p>\\n\\n<p>I do things like</p>\\n\\n<ul>\\n<li>Randomly poke old unanswered questions every hour so they get some attention</li>\\n<li>Own community questions and answers so nobody gets unnecessary reputation from them</li>\\n<li>Own downvotes on spam/evil posts that get permanently deleted</li>\\n<li>Own suggested edits from anonymous users</li>\\n<li><a href=\"http://meta.stackexchange.com/a/92006\">Remove abandoned questions</a></li>\\n</ul>\\n', 'Views': '0', 'UpVotes': '976', 'DownVotes': '11458', 'AccountId': '-1'}\n",
      "row {'Id': '2', 'Reputation': '101', 'CreationDate': '2011-08-30T20:53:10.447', 'DisplayName': 'Nick Craver', 'LastAccessDate': '2018-10-31T20:08:30.577', 'WebsiteUrl': 'https://nickcraver.com/blog/', 'Location': 'Winston-Salem, NC', 'AboutMe': '<p>I am the Architecture Lead for Stack Overflow. My day job consists of being a Developer, Site Reliability Engineer, and DBA. I design and build very fast things in hopes of making life easier for millions of developers.</p>\\n\\n<p>Blog: <a href=\"https://nickcraver.com/blog/\" rel=\"nofollow noreferrer\">nickcraver.com/blog</a><br>\\nTwitter: <a href=\"https://twitter.com/Nick_Craver\" rel=\"nofollow noreferrer\">@Nick_Craver</a><br>\\nMy Developer Story: <a href=\"https://stackoverflow.com/story/ncraver\">stackoverflow.com/story/ncraver</a></p>\\n\\n<p><sub>Disclaimer: I have <em>no idea</em> what I\\'m talking about, all my answers are guesses!</sub></p>\\n', 'Views': '18', 'UpVotes': '0', 'DownVotes': '0', 'ProfileImageUrl': 'https://i.stack.imgur.com/nGCYr.jpg?s=128&g=1', 'AccountId': '7598'}\n"
     ]
    }
   ],
   "source": [
    "from networkx import networkx as nx\n",
    "import matplotlib.pyplot as plt\n",
    "import scipy\n",
    "from data_reader import get_stackoverflow_data\n",
    "\n",
    "BASE_PATH = 'data'\n",
    "\n",
    "G=nx.Graph()\n",
    "\n",
    "xml_dict = get_stackoverflow_data(f\"{BASE_PATH}/bitcoin\")\n",
    "\n",
    "# example on how to use the xml\n",
    "for row in xml_dict['Users'][:2]:\n",
    "    # row objects have tag & attrib\n",
    "    print(row.tag, row.attrib)\n",
    "    \n",
    "# TODO: read data to graphx"
   ]
  }
 ],
 "metadata": {
  "kernelspec": {
   "display_name": "Python 3",
   "language": "python",
   "name": "python3"
  },
  "language_info": {
   "codemirror_mode": {
    "name": "ipython",
    "version": 3
   },
   "file_extension": ".py",
   "mimetype": "text/x-python",
   "name": "python",
   "nbconvert_exporter": "python",
   "pygments_lexer": "ipython3",
   "version": "3.6.7"
  }
 },
 "nbformat": 4,
 "nbformat_minor": 2
}
